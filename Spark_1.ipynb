{
 "cells": [
  {
   "cell_type": "markdown",
   "id": "9618ec9b",
   "metadata": {},
   "source": [
    "in this we will just cover \n",
    "-pySpark dataFrame\n",
    "-Reading The DataSet\n",
    "-Checking the data set of the columns\n",
    "-Selecting Columns and indexing\n",
    "-Check describe option similir to pandas\n",
    "-Adding Columns\n",
    "-Dropping Columns\n",
    "-Renaming Coumns"
   ]
  },
  {
   "cell_type": "code",
   "execution_count": null,
   "id": "04f120dd",
   "metadata": {},
   "outputs": [],
   "source": [
    "from pyspark.sql import SparkSession\n",
    "spark = SparkSession.builder.appName('dataFrame Practic').getOrCreate()\n",
    "\n",
    "df_pyspark= spark.read.option(\"header\",\"True\").csv('dataset.csv',inferSchema=True)\n"
   ]
  },
  {
   "cell_type": "code",
   "execution_count": 7,
   "id": "ae50b3b5",
   "metadata": {},
   "outputs": [
    {
     "name": "stdout",
     "output_type": "stream",
     "text": [
      "root\n",
      " |-- Name : string (nullable = true)\n",
      " |-- Age: integer (nullable = true)\n",
      " |-- experince: integer (nullable = true)\n",
      "\n"
     ]
    }
   ],
   "source": [
    "\n",
    "df_pyspark.printSchema()"
   ]
  },
  {
   "cell_type": "code",
   "execution_count": 10,
   "id": "fbf70880",
   "metadata": {},
   "outputs": [
    {
     "name": "stdout",
     "output_type": "stream",
     "text": [
      "+------+---+---------+\n",
      "| Name |Age|experince|\n",
      "+------+---+---------+\n",
      "| Ateeb| 19|       10|\n",
      "|  Umar| 20|        8|\n",
      "|  Addy| 21|        4|\n",
      "|Firoj | 22|        6|\n",
      "+------+---+---------+\n",
      "\n"
     ]
    }
   ],
   "source": [
    "df_pyspark = spark.read.csv(\"dataSet.csv\", header=True, inferSchema=True)\n",
    "df_pyspark.show()"
   ]
  },
  {
   "cell_type": "markdown",
   "id": "35e0ca3f",
   "metadata": {},
   "source": [
    "<!-- check the schema -->"
   ]
  },
  {
   "cell_type": "code",
   "execution_count": 11,
   "id": "a68f8e52",
   "metadata": {},
   "outputs": [
    {
     "name": "stdout",
     "output_type": "stream",
     "text": [
      "root\n",
      " |-- Name : string (nullable = true)\n",
      " |-- Age: integer (nullable = true)\n",
      " |-- experince: integer (nullable = true)\n",
      "\n"
     ]
    }
   ],
   "source": [
    "df_pyspark.printSchema()"
   ]
  },
  {
   "cell_type": "code",
   "execution_count": 12,
   "id": "512aeb09",
   "metadata": {},
   "outputs": [
    {
     "data": {
      "text/plain": [
       "pyspark.sql.classic.dataframe.DataFrame"
      ]
     },
     "execution_count": 12,
     "metadata": {},
     "output_type": "execute_result"
    }
   ],
   "source": [
    "type(df_pyspark)"
   ]
  },
  {
   "cell_type": "code",
   "execution_count": 15,
   "id": "2a553514",
   "metadata": {},
   "outputs": [
    {
     "data": {
      "text/plain": [
       "[Row(Name ='Ateeb', Age=19, experince=10),\n",
       " Row(Name ='Umar', Age=20, experince=8),\n",
       " Row(Name ='Addy', Age=21, experince=4)]"
      ]
     },
     "execution_count": 15,
     "metadata": {},
     "output_type": "execute_result"
    }
   ],
   "source": [
    "# Selecting colums and indexing\n",
    "df_pyspark.columns\n",
    "df_pyspark.head(3)"
   ]
  },
  {
   "cell_type": "code",
   "execution_count": 16,
   "id": "c218bef3",
   "metadata": {},
   "outputs": [
    {
     "name": "stdout",
     "output_type": "stream",
     "text": [
      "+------+---+---------+\n",
      "| Name |Age|experince|\n",
      "+------+---+---------+\n",
      "| Ateeb| 19|       10|\n",
      "|  Umar| 20|        8|\n",
      "|  Addy| 21|        4|\n",
      "|Firoj | 22|        6|\n",
      "+------+---+---------+\n",
      "\n"
     ]
    }
   ],
   "source": [
    "df_pyspark.show()"
   ]
  },
  {
   "cell_type": "code",
   "execution_count": 28,
   "id": "e16ce567",
   "metadata": {},
   "outputs": [
    {
     "name": "stdout",
     "output_type": "stream",
     "text": [
      "+------+---------+\n",
      "| Name |experince|\n",
      "+------+---------+\n",
      "| Ateeb|       10|\n",
      "|  Umar|        8|\n",
      "|  Addy|        4|\n",
      "|Firoj |        6|\n",
      "+------+---------+\n",
      "\n"
     ]
    },
    {
     "data": {
      "text/plain": [
       "pyspark.sql.classic.dataframe.DataFrame"
      ]
     },
     "execution_count": 28,
     "metadata": {},
     "output_type": "execute_result"
    }
   ],
   "source": [
    "# this is how multiple columns are been selected\n",
    "df_pyspark.select(['Name ','experince']).show()\n",
    "# print(df_pyspark.columns)\n",
    "type(df_pyspark.select('Name '))"
   ]
  },
  {
   "cell_type": "code",
   "execution_count": 29,
   "id": "4f3f94df",
   "metadata": {},
   "outputs": [
    {
     "data": {
      "text/plain": [
       "Column<'`Name `'>"
      ]
     },
     "execution_count": 29,
     "metadata": {},
     "output_type": "execute_result"
    }
   ],
   "source": [
    "df_pyspark['Name ']"
   ]
  },
  {
   "cell_type": "code",
   "execution_count": 30,
   "id": "9b17c85c",
   "metadata": {},
   "outputs": [
    {
     "data": {
      "text/plain": [
       "[('Name ', 'string'), ('Age', 'int'), ('experince', 'int')]"
      ]
     },
     "execution_count": 30,
     "metadata": {},
     "output_type": "execute_result"
    }
   ],
   "source": [
    "# Check the dataTypes\n",
    "df_pyspark.dtypes"
   ]
  },
  {
   "cell_type": "code",
   "execution_count": 34,
   "id": "105a7367",
   "metadata": {},
   "outputs": [
    {
     "name": "stdout",
     "output_type": "stream",
     "text": [
      "+-------+-----+------------------+------------------+\n",
      "|summary|Name |               Age|         experince|\n",
      "+-------+-----+------------------+------------------+\n",
      "|  count|    4|                 4|                 4|\n",
      "|   mean| NULL|              20.5|               7.0|\n",
      "| stddev| NULL|1.2909944487358056|2.5819888974716108|\n",
      "|    min| Addy|                19|                 4|\n",
      "|    max| Umar|                22|                10|\n",
      "+-------+-----+------------------+------------------+\n",
      "\n"
     ]
    }
   ],
   "source": [
    "# Check the describe option to the \n",
    "df_pyspark.describe().show()"
   ]
  },
  {
   "cell_type": "code",
   "execution_count": 37,
   "id": "91064c8e",
   "metadata": {},
   "outputs": [],
   "source": [
    "# Adding Coloumns and dropping Columns\n",
    "df_pyspark = df_pyspark.withColumn(\n",
    "    \"experince After 2 Year\", df_pyspark[\"experince\"] + 2\n",
    ")"
   ]
  },
  {
   "cell_type": "code",
   "execution_count": 38,
   "id": "b3e73c12",
   "metadata": {},
   "outputs": [
    {
     "name": "stdout",
     "output_type": "stream",
     "text": [
      "+------+---+---------+----------------------+\n",
      "| Name |Age|experince|experince After 2 Year|\n",
      "+------+---+---------+----------------------+\n",
      "| Ateeb| 19|       10|                    12|\n",
      "|  Umar| 20|        8|                    10|\n",
      "|  Addy| 21|        4|                     6|\n",
      "|Firoj | 22|        6|                     8|\n",
      "+------+---+---------+----------------------+\n",
      "\n"
     ]
    }
   ],
   "source": [
    "df_pyspark.show()"
   ]
  },
  {
   "cell_type": "code",
   "execution_count": 44,
   "metadata": {},
   "outputs": [],
   "source": [
    "# Drop the columns\n",
    "df_pyspark = df_pyspark.drop(\"experince After 2 Year\")"
   ]
  },
  {
   "cell_type": "code",
   "execution_count": 45,
   "id": "1cf413fd",
   "metadata": {},
   "outputs": [
    {
     "name": "stdout",
     "output_type": "stream",
     "text": [
      "+------+---+---------+\n",
      "| Name |Age|experince|\n",
      "+------+---+---------+\n",
      "| Ateeb| 19|       10|\n",
      "|  Umar| 20|        8|\n",
      "|  Addy| 21|        4|\n",
      "|Firoj | 22|        6|\n",
      "+------+---+---------+\n",
      "\n"
     ]
    }
   ],
   "source": [
    "df_pyspark.show()"
   ]
  },
  {
   "cell_type": "code",
   "execution_count": 47,
   "metadata": {},
   "outputs": [
    {
     "name": "stdout",
     "output_type": "stream",
     "text": [
      "+------+---+---------+\n",
      "|  Name|Age|experince|\n",
      "+------+---+---------+\n",
      "| Ateeb| 19|       10|\n",
      "|  Umar| 20|        8|\n",
      "|  Addy| 21|        4|\n",
      "|Firoj | 22|        6|\n",
      "+------+---+---------+\n",
      "\n"
     ]
    }
   ],
   "source": [
    "# How to remane the columns\n",
    "df_pyspark.withColumnRenamed('Name ','Name').show()\n"
   ]
  },
  {
   "cell_type": "code",
   "execution_count": null,
   "metadata": {},
   "outputs": [],
   "source": []
  },
  {
   "cell_type": "code",
   "execution_count": null,
   "id": "05f916f1",
   "metadata": {},
   "outputs": [],
   "source": []
  },
  {
   "cell_type": "code",
   "execution_count": null,
   "id": "e8d7b817",
   "metadata": {},
   "outputs": [],
   "source": []
  },
  {
   "cell_type": "code",
   "execution_count": null,
   "id": "3c9268c9",
   "metadata": {},
   "outputs": [],
   "source": []
  }
 ],
 "metadata": {
  "kernelspec": {
   "display_name": "Python 3",
   "language": "python",
   "name": "python3"
  },
  "language_info": {
   "codemirror_mode": {
    "name": "ipython",
    "version": 3
   },
   "file_extension": ".py",
   "mimetype": "text/x-python",
   "name": "python",
   "nbconvert_exporter": "python",
   "pygments_lexer": "ipython3",
   "version": "3.13.7"
  }
 },
 "nbformat": 4,
 "nbformat_minor": 5
}
