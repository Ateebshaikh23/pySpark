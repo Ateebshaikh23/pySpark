{
 "cells": [
  {
   "cell_type": "markdown",
   "id": "d6740253",
   "metadata": {},
   "source": [
    "pySpark ML\n",
    "\n"
   ]
  },
  {
   "cell_type": "code",
   "execution_count": 25,
   "id": "43287569",
   "metadata": {},
   "outputs": [],
   "source": [
    "from pyspark.sql import SparkSession\n",
    "spark = SparkSession.builder.appName(\"Missing vlaue\").getOrCreate()"
   ]
  },
  {
   "cell_type": "code",
   "execution_count": 26,
   "id": "1d9ee8ab",
   "metadata": {},
   "outputs": [],
   "source": [
    "training = spark.read.csv(\"test2.csv\", header=True, inferSchema=True)"
   ]
  },
  {
   "cell_type": "code",
   "execution_count": 27,
   "id": "47bcf016",
   "metadata": {},
   "outputs": [
    {
     "name": "stdout",
     "output_type": "stream",
     "text": [
      "+------------+---+---------------+------+\n",
      "|       Name |Age|     Department|Salary|\n",
      "+------------+---+---------------+------+\n",
      "|       Krish| 13|   Data Science| 10000|\n",
      "|       Ateeb| 20|Web Development| 15000|\n",
      "|      Mushir| 22| Java Developer| 12500|\n",
      "|Umar Salmani| 31|       Android | 13500|\n",
      "|       firoj| 25|        Graphic| 18000|\n",
      "|     Saniya | 21|        Graphic| 25000|\n",
      "|       Adnan| 25| Data Analytics| 31000|\n",
      "|        addu| 16|  Logo Designer| 16000|\n",
      "|      Sunny | 36|            IOT| 35000|\n",
      "+------------+---+---------------+------+\n",
      "\n"
     ]
    }
   ],
   "source": [
    "training.show()"
   ]
  },
  {
   "cell_type": "code",
   "execution_count": 28,
   "id": "b9d9f278",
   "metadata": {},
   "outputs": [
    {
     "name": "stdout",
     "output_type": "stream",
     "text": [
      "root\n",
      " |-- Name : string (nullable = true)\n",
      " |-- Age: integer (nullable = true)\n",
      " |-- Department: string (nullable = true)\n",
      " |-- Salary: integer (nullable = true)\n",
      "\n"
     ]
    }
   ],
   "source": [
    "training.printSchema()"
   ]
  },
  {
   "cell_type": "code",
   "execution_count": 29,
   "metadata": {},
   "outputs": [
    {
     "data": {
      "text/plain": [
       "['Name ', 'Age', 'Department', 'Salary']"
      ]
     },
     "execution_count": 29,
     "metadata": {},
     "output_type": "execute_result"
    }
   ],
   "source": [
    "training.columns\n"
   ]
  },
  {
   "cell_type": "code",
   "execution_count": 30,
   "metadata": {},
   "outputs": [],
   "source": [
    "# [Age,Experince,]-----> new feature -----> independenr feature\n",
    "# for groupingg this we use vectore assembler"
   ]
  },
  {
   "cell_type": "code",
   "execution_count": 33,
   "id": "24067fcc",
   "metadata": {},
   "outputs": [],
   "source": [
    "from pyspark.ml.feature import VectorAssembler\n",
    "\n",
    "featureAssembler = VectorAssembler(\n",
    "    inputCols=['Age','Salary'],\n",
    "    outputCol='Independent features',\n",
    "    handleInvalid='skip'\n",
    ")\n",
    "\n",
    "\n",
    "# If u have null values in ur csv file it will show u error and u wont be able to indentify where the error is from so look that before u code "
   ]
  },
  {
   "cell_type": "code",
   "execution_count": 34,
   "metadata": {},
   "outputs": [
    {
     "name": "stdout",
     "output_type": "stream",
     "text": [
      "+------------+---+---------------+------+--------------------+\n",
      "|       Name |Age|     Department|Salary|Independent features|\n",
      "+------------+---+---------------+------+--------------------+\n",
      "|       Krish| 13|   Data Science| 10000|      [13.0,10000.0]|\n",
      "|       Ateeb| 20|Web Development| 15000|      [20.0,15000.0]|\n",
      "|      Mushir| 22| Java Developer| 12500|      [22.0,12500.0]|\n",
      "|Umar Salmani| 31|       Android | 13500|      [31.0,13500.0]|\n",
      "|       firoj| 25|        Graphic| 18000|      [25.0,18000.0]|\n",
      "|     Saniya | 21|        Graphic| 25000|      [21.0,25000.0]|\n",
      "|       Adnan| 25| Data Analytics| 31000|      [25.0,31000.0]|\n",
      "|        addu| 16|  Logo Designer| 16000|      [16.0,16000.0]|\n",
      "|      Sunny | 36|            IOT| 35000|      [36.0,35000.0]|\n",
      "+------------+---+---------------+------+--------------------+\n",
      "\n"
     ]
    }
   ],
   "source": [
    "# now showing the group work done bye vectore\n",
    "featureAssembler.transform(training).show()"
   ]
  },
  {
   "cell_type": "code",
   "execution_count": null,
   "id": "a5dae60a",
   "metadata": {},
   "outputs": [],
   "source": []
  },
  {
   "cell_type": "code",
   "execution_count": null,
   "id": "daa4195f",
   "metadata": {},
   "outputs": [],
   "source": []
  },
  {
   "cell_type": "code",
   "execution_count": null,
   "metadata": {},
   "outputs": [],
   "source": []
  }
 ],
 "metadata": {
  "kernelspec": {
   "display_name": "Python 3",
   "language": "python",
   "name": "python3"
  },
  "language_info": {
   "codemirror_mode": {
    "name": "ipython",
    "version": 3
   },
   "file_extension": ".py",
   "mimetype": "text/x-python",
   "name": "python",
   "nbconvert_exporter": "python",
   "pygments_lexer": "ipython3",
   "version": "3.13.7"
  }
 },
 "nbformat": 4,
 "nbformat_minor": 5
}
