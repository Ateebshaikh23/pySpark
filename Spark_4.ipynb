{
 "cells": [
  {
   "cell_type": "markdown",
   "id": "809e61e0",
   "metadata": {},
   "source": [
    "GroupBY and Aggregate Function"
   ]
  },
  {
   "cell_type": "code",
   "execution_count": null,
   "id": "ca1b1273",
   "metadata": {},
   "outputs": [],
   "source": []
  }
 ],
 "metadata": {
  "language_info": {
   "name": "python"
  }
 },
 "nbformat": 4,
 "nbformat_minor": 5
}
