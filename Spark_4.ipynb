{
 "cells": [
  {
   "cell_type": "markdown",
   "id": "809e61e0",
   "metadata": {},
   "source": [
    "GroupBY and Aggregate Function"
   ]
  },
  {
   "cell_type": "code",
   "execution_count": 1,
   "id": "ca1b1273",
   "metadata": {},
   "outputs": [],
   "source": [
    "from pyspark.sql import SparkSession"
   ]
  },
  {
   "cell_type": "code",
   "execution_count": 2,
   "id": "5003b521",
   "metadata": {},
   "outputs": [],
   "source": [
    "spark = SparkSession.builder.appName('GroupByAggregateFunction').getOrCreate()"
   ]
  },
  {
   "cell_type": "code",
   "execution_count": 3,
   "id": "8948e983",
   "metadata": {},
   "outputs": [
    {
     "data": {
      "text/html": [
       "\n",
       "            <div>\n",
       "                <p><b>SparkSession - in-memory</b></p>\n",
       "                \n",
       "        <div>\n",
       "            <p><b>SparkContext</b></p>\n",
       "\n",
       "            <p><a href=\"http://DESKTOP-V5PKJR5:4040\">Spark UI</a></p>\n",
       "\n",
       "            <dl>\n",
       "              <dt>Version</dt>\n",
       "                <dd><code>v4.0.1</code></dd>\n",
       "              <dt>Master</dt>\n",
       "                <dd><code>local[*]</code></dd>\n",
       "              <dt>AppName</dt>\n",
       "                <dd><code>GroupByAggregateFunction</code></dd>\n",
       "            </dl>\n",
       "        </div>\n",
       "        \n",
       "            </div>\n",
       "        "
      ],
      "text/plain": [
       "<pyspark.sql.session.SparkSession at 0x17ceacdd7f0>"
      ]
     },
     "execution_count": 3,
     "metadata": {},
     "output_type": "execute_result"
    }
   ],
   "source": [
    "spark"
   ]
  },
  {
   "cell_type": "code",
   "execution_count": 4,
   "metadata": {},
   "outputs": [],
   "source": [
    "dfPyspark = spark.read.csv(\"test2.csv\", inferSchema=True, header=True)"
   ]
  },
  {
   "cell_type": "code",
   "execution_count": 5,
   "metadata": {},
   "outputs": [
    {
     "name": "stdout",
     "output_type": "stream",
     "text": [
      "+------------+---------------+------+\n",
      "|       Name |     Department|Salary|\n",
      "+------------+---------------+------+\n",
      "|       Krish|   Data Science| 10000|\n",
      "|       Ateeb|Web Development| 15000|\n",
      "|      Mushir| Java Developer| 12500|\n",
      "|Umar Salmani|       Android | 13500|\n",
      "|       firoj|        Graphic| 18000|\n",
      "|     Saniya |        Graphic| 25000|\n",
      "|       Adnan| Data Analytics| 31000|\n",
      "|        addu|  Logo Designer| 16000|\n",
      "|      Sunny |            IOT| 35000|\n",
      "+------------+---------------+------+\n",
      "\n"
     ]
    }
   ],
   "source": [
    "dfPyspark.show()"
   ]
  },
  {
   "cell_type": "code",
   "execution_count": 6,
   "id": "56fd860e",
   "metadata": {},
   "outputs": [
    {
     "name": "stdout",
     "output_type": "stream",
     "text": [
      "root\n",
      " |-- Name : string (nullable = true)\n",
      " |-- Department: string (nullable = true)\n",
      " |-- Salary: integer (nullable = true)\n",
      "\n"
     ]
    }
   ],
   "source": [
    "dfPyspark.printSchema()"
   ]
  },
  {
   "cell_type": "code",
   "execution_count": 7,
   "id": "c07f309e",
   "metadata": {},
   "outputs": [
    {
     "name": "stdout",
     "output_type": "stream",
     "text": [
      "+------------+-----------+\n",
      "|       Name |sum(Salary)|\n",
      "+------------+-----------+\n",
      "|Umar Salmani|      13500|\n",
      "|       Ateeb|      15000|\n",
      "|       Adnan|      31000|\n",
      "|      Mushir|      12500|\n",
      "|       Krish|      10000|\n",
      "|      Sunny |      35000|\n",
      "|     Saniya |      25000|\n",
      "|        addu|      16000|\n",
      "|       firoj|      18000|\n",
      "+------------+-----------+\n",
      "\n"
     ]
    }
   ],
   "source": [
    "# GroupBy Operation\n",
    "# dfPyspark.groupBy('Name').sum()\n",
    "\n",
    "# This is used to find the maximum salary of a person who has same name in a data frame\n",
    "dfPyspark.groupBy(\"Name \").sum().show()\n"
   ]
  },
  {
   "cell_type": "code",
   "execution_count": 8,
   "id": "ad6dc231",
   "metadata": {},
   "outputs": [
    {
     "name": "stdout",
     "output_type": "stream",
     "text": [
      "+---------------+-----------+\n",
      "|     Department|sum(Salary)|\n",
      "+---------------+-----------+\n",
      "|  Logo Designer|      16000|\n",
      "|            IOT|      35000|\n",
      "| Data Analytics|      31000|\n",
      "|Web Development|      15000|\n",
      "| Java Developer|      12500|\n",
      "|   Data Science|      10000|\n",
      "|        Graphic|      43000|\n",
      "|       Android |      13500|\n",
      "+---------------+-----------+\n",
      "\n"
     ]
    }
   ],
   "source": [
    "# Group by department to see which group give max salry \n",
    "dfPyspark.groupBy(\"Department\").sum().show()"
   ]
  },
  {
   "cell_type": "code",
   "execution_count": 9,
   "id": "218ddf8f",
   "metadata": {},
   "outputs": [
    {
     "name": "stdout",
     "output_type": "stream",
     "text": [
      "+---------------+-----------+\n",
      "|     Department|avg(Salary)|\n",
      "+---------------+-----------+\n",
      "|  Logo Designer|    16000.0|\n",
      "|            IOT|    35000.0|\n",
      "| Data Analytics|    31000.0|\n",
      "|Web Development|    15000.0|\n",
      "| Java Developer|    12500.0|\n",
      "|   Data Science|    10000.0|\n",
      "|        Graphic|    21500.0|\n",
      "|       Android |    13500.0|\n",
      "+---------------+-----------+\n",
      "\n"
     ]
    }
   ],
   "source": [
    "# To find mean\n",
    "dfPyspark.groupBy(\"Department\").mean().show()"
   ]
  },
  {
   "cell_type": "code",
   "execution_count": 10,
   "metadata": {},
   "outputs": [
    {
     "name": "stdout",
     "output_type": "stream",
     "text": [
      "+---------------+-----+\n",
      "|     Department|count|\n",
      "+---------------+-----+\n",
      "|  Logo Designer|    1|\n",
      "|            IOT|    1|\n",
      "| Data Analytics|    1|\n",
      "|Web Development|    1|\n",
      "| Java Developer|    1|\n",
      "|   Data Science|    1|\n",
      "|        Graphic|    2|\n",
      "|       Android |    1|\n",
      "+---------------+-----+\n",
      "\n"
     ]
    }
   ],
   "source": [
    "# To find no of employee working\n",
    "dfPyspark.groupBy(\"Department\").count().show()"
   ]
  },
  {
   "cell_type": "code",
   "execution_count": 11,
   "id": "102f6b16",
   "metadata": {},
   "outputs": [
    {
     "name": "stdout",
     "output_type": "stream",
     "text": [
      "+-----------+\n",
      "|sum(Salary)|\n",
      "+-----------+\n",
      "|     176000|\n",
      "+-----------+\n",
      "\n"
     ]
    }
   ],
   "source": [
    "# Aggregate start from here\n",
    "dfPyspark.agg({'Salary':'sum'}).show()"
   ]
  },
  {
   "cell_type": "code",
   "execution_count": 12,
   "metadata": {},
   "outputs": [
    {
     "name": "stdout",
     "output_type": "stream",
     "text": [
      "+------------+-----------+\n",
      "|       Name |avg(Salary)|\n",
      "+------------+-----------+\n",
      "|Umar Salmani|    13500.0|\n",
      "|       Ateeb|    15000.0|\n",
      "|       Adnan|    31000.0|\n",
      "|      Mushir|    12500.0|\n",
      "|       Krish|    10000.0|\n",
      "|      Sunny |    35000.0|\n",
      "|     Saniya |    25000.0|\n",
      "|        addu|    16000.0|\n",
      "|       firoj|    18000.0|\n",
      "+------------+-----------+\n",
      "\n"
     ]
    }
   ],
   "source": [
    "dfPyspark.groupBy(\"Name \").avg().show()\n",
    "# All the opration are done on same name   "
   ]
  },
  {
   "cell_type": "code",
   "execution_count": null,
   "id": "25b89e5f",
   "metadata": {},
   "outputs": [],
   "source": []
  },
  {
   "cell_type": "code",
   "execution_count": null,
   "id": "c2f3c64b",
   "metadata": {},
   "outputs": [],
   "source": []
  },
  {
   "cell_type": "code",
   "execution_count": null,
   "id": "2e8bab93",
   "metadata": {},
   "outputs": [],
   "source": []
  },
  {
   "cell_type": "code",
   "execution_count": null,
   "id": "e95d2d96",
   "metadata": {},
   "outputs": [],
   "source": []
  },
  {
   "cell_type": "code",
   "execution_count": null,
   "id": "a871a25c",
   "metadata": {},
   "outputs": [],
   "source": []
  }
 ],
 "metadata": {
  "kernelspec": {
   "display_name": "Python 3",
   "language": "python",
   "name": "python3"
  },
  "language_info": {
   "codemirror_mode": {
    "name": "ipython",
    "version": 3
   },
   "file_extension": ".py",
   "mimetype": "text/x-python",
   "name": "python",
   "nbconvert_exporter": "python",
   "pygments_lexer": "ipython3",
   "version": "3.13.7"
  }
 },
 "nbformat": 4,
 "nbformat_minor": 5
}
