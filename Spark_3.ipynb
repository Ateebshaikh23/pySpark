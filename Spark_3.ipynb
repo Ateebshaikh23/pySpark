{
 "cells": [
  {
   "cell_type": "code",
   "execution_count": 3,
   "id": "33160ac5",
   "metadata": {},
   "outputs": [],
   "source": [
    "from pyspark.sql import SparkSession"
   ]
  },
  {
   "cell_type": "code",
   "execution_count": null,
   "id": "902579bc",
   "metadata": {},
   "outputs": [],
   "source": [
    "spark = SparkSession.builder.appName(\"dataFrame\").getOrCreate()"
   ]
  },
  {
   "cell_type": "code",
   "execution_count": 5,
   "id": "165de46c",
   "metadata": {},
   "outputs": [],
   "source": [
    "# Create a variable\n",
    "df_pyspark = spark.read.csv(\"test1.csv\", header=True, inferSchema=True)"
   ]
  },
  {
   "cell_type": "code",
   "execution_count": 6,
   "id": "e392bdae",
   "metadata": {},
   "outputs": [
    {
     "name": "stdout",
     "output_type": "stream",
     "text": [
      "+-------------+----+---------+------+\n",
      "|         Name| Age|Experince|Salary|\n",
      "+-------------+----+---------+------+\n",
      "| Ateeb Shaikh|  19|        2| 65000|\n",
      "|Firoj Tamboli|  22|        6| 15000|\n",
      "|         umar|  18|        1| 10000|\n",
      "|   adnan khan|  21|        3|450000|\n",
      "|sameer shaikh|  23|        1| 40000|\n",
      "|       shadab|  21|        3| 60000|\n",
      "|faizan shaikh|NULL|     NULL|120000|\n",
      "|         NULL|NULL|       10|  4500|\n",
      "|         NULL|  31|     NULL|  NULL|\n",
      "|         NULL|  12|     NULL|  NULL|\n",
      "+-------------+----+---------+------+\n",
      "\n"
     ]
    }
   ],
   "source": [
    "df_pyspark.show()"
   ]
  },
  {
   "cell_type": "code",
   "execution_count": 10,
   "id": "19bc6750",
   "metadata": {},
   "outputs": [
    {
     "name": "stdout",
     "output_type": "stream",
     "text": [
      "+-------------+----+---------+------+\n",
      "|         Name| Age|Experince|Salary|\n",
      "+-------------+----+---------+------+\n",
      "|Firoj Tamboli|  22|        6| 15000|\n",
      "|         umar|  18|        1| 10000|\n",
      "|         NULL|NULL|       10|  4500|\n",
      "+-------------+----+---------+------+\n",
      "\n"
     ]
    }
   ],
   "source": [
    "# Filter Operator\n",
    "# salay of the people less then or equal to 20000\n",
    "df_pyspark.filter(\"Salary<=20000\").show()"
   ]
  },
  {
   "cell_type": "code",
   "execution_count": 11,
   "id": "2cc14382",
   "metadata": {},
   "outputs": [
    {
     "name": "stdout",
     "output_type": "stream",
     "text": [
      "+-------------+----+\n",
      "|         Name| Age|\n",
      "+-------------+----+\n",
      "|Firoj Tamboli|  22|\n",
      "|         umar|  18|\n",
      "|         NULL|NULL|\n",
      "+-------------+----+\n",
      "\n"
     ]
    }
   ],
   "source": [
    "df_pyspark.filter(\"Salary<=20000\").select(['Name','Age']).show()"
   ]
  },
  {
   "cell_type": "code",
   "execution_count": 13,
   "id": "cb94f33b",
   "metadata": {},
   "outputs": [
    {
     "name": "stdout",
     "output_type": "stream",
     "text": [
      "+-------------+----+---------+------+\n",
      "|         Name| Age|Experince|Salary|\n",
      "+-------------+----+---------+------+\n",
      "|Firoj Tamboli|  22|        6| 15000|\n",
      "|         umar|  18|        1| 10000|\n",
      "|         NULL|NULL|       10|  4500|\n",
      "+-------------+----+---------+------+\n",
      "\n"
     ]
    }
   ],
   "source": [
    "df_pyspark.filter(df_pyspark[\"Salary\"]<=20000).show()"
   ]
  },
  {
   "cell_type": "code",
   "execution_count": 15,
   "metadata": {},
   "outputs": [
    {
     "name": "stdout",
     "output_type": "stream",
     "text": [
      "+-------------+----+---------+------+\n",
      "|         Name| Age|Experince|Salary|\n",
      "+-------------+----+---------+------+\n",
      "|Firoj Tamboli|  22|        6| 15000|\n",
      "|         umar|  18|        1| 10000|\n",
      "|         NULL|NULL|       10|  4500|\n",
      "+-------------+----+---------+------+\n",
      "\n"
     ]
    }
   ],
   "source": [
    "df_pyspark.filter(\n",
    "    (df_pyspark[\"Salary\"] <= 20000) | (df_pyspark[\"Salary\"] <= 15000)\n",
    ").show()"
   ]
  },
  {
   "cell_type": "code",
   "execution_count": 16,
   "id": "d4053f55",
   "metadata": {},
   "outputs": [
    {
     "name": "stdout",
     "output_type": "stream",
     "text": [
      "+-------------+----+---------+------+\n",
      "|         Name| Age|Experince|Salary|\n",
      "+-------------+----+---------+------+\n",
      "| Ateeb Shaikh|  19|        2| 65000|\n",
      "|   adnan khan|  21|        3|450000|\n",
      "|sameer shaikh|  23|        1| 40000|\n",
      "|       shadab|  21|        3| 60000|\n",
      "|faizan shaikh|NULL|     NULL|120000|\n",
      "+-------------+----+---------+------+\n",
      "\n"
     ]
    }
   ],
   "source": [
    "df_pyspark.filter(~(df_pyspark[\"Salary\"] <= 20000)).show()"
   ]
  },
  {
   "cell_type": "code",
   "execution_count": null,
   "metadata": {},
   "outputs": [],
   "source": []
  },
  {
   "cell_type": "code",
   "execution_count": null,
   "id": "8b9f3113",
   "metadata": {},
   "outputs": [],
   "source": []
  },
  {
   "cell_type": "code",
   "execution_count": null,
   "metadata": {},
   "outputs": [],
   "source": []
  },
  {
   "cell_type": "code",
   "execution_count": null,
   "id": "5084d6cf",
   "metadata": {},
   "outputs": [],
   "source": []
  },
  {
   "cell_type": "code",
   "execution_count": null,
   "id": "3be05a7c",
   "metadata": {},
   "outputs": [],
   "source": []
  }
 ],
 "metadata": {
  "kernelspec": {
   "display_name": "Python 3",
   "language": "python",
   "name": "python3"
  },
  "language_info": {
   "codemirror_mode": {
    "name": "ipython",
    "version": 3
   },
   "file_extension": ".py",
   "mimetype": "text/x-python",
   "name": "python",
   "nbconvert_exporter": "python",
   "pygments_lexer": "ipython3",
   "version": "3.13.7"
  }
 },
 "nbformat": 4,
 "nbformat_minor": 5
}
