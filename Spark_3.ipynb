{
 "cells": [
  {
   "cell_type": "code",
   "execution_count": 3,
   "id": "33160ac5",
   "metadata": {},
   "outputs": [],
   "source": [
    "from pyspark.sql import SparkSession"
   ]
  },
  {
   "cell_type": "code",
   "execution_count": null,
   "id": "902579bc",
   "metadata": {},
   "outputs": [],
   "source": [
    "spark = SparkSession.builder.appName(\"dataFrame\").getOrCreate()"
   ]
  },
  {
   "cell_type": "code",
   "execution_count": 5,
   "id": "165de46c",
   "metadata": {},
   "outputs": [],
   "source": [
    "# Create a variable\n",
    "df_pyspark = spark.read.csv(\"test1.csv\", header=True, inferSchema=True)"
   ]
  },
  {
   "cell_type": "code",
   "execution_count": 6,
   "id": "e392bdae",
   "metadata": {},
   "outputs": [
    {
     "name": "stdout",
     "output_type": "stream",
     "text": [
      "+-------------+----+---------+------+\n",
      "|         Name| Age|Experince|Salary|\n",
      "+-------------+----+---------+------+\n",
      "| Ateeb Shaikh|  19|        2| 65000|\n",
      "|Firoj Tamboli|  22|        6| 15000|\n",
      "|         umar|  18|        1| 10000|\n",
      "|   adnan khan|  21|        3|450000|\n",
      "|sameer shaikh|  23|        1| 40000|\n",
      "|       shadab|  21|        3| 60000|\n",
      "|faizan shaikh|NULL|     NULL|120000|\n",
      "|         NULL|NULL|       10|  4500|\n",
      "|         NULL|  31|     NULL|  NULL|\n",
      "|         NULL|  12|     NULL|  NULL|\n",
      "+-------------+----+---------+------+\n",
      "\n"
     ]
    }
   ],
   "source": [
    "df_pyspark.show()"
   ]
  },
  {
   "cell_type": "code",
   "execution_count": 7,
   "id": "19bc6750",
   "metadata": {},
   "outputs": [],
   "source": [
    "# Filter Operator\n"
   ]
  },
  {
   "cell_type": "code",
   "execution_count": null,
   "id": "2cc14382",
   "metadata": {},
   "outputs": [],
   "source": []
  }
 ],
 "metadata": {
  "kernelspec": {
   "display_name": "Python 3",
   "language": "python",
   "name": "python3"
  },
  "language_info": {
   "codemirror_mode": {
    "name": "ipython",
    "version": 3
   },
   "file_extension": ".py",
   "mimetype": "text/x-python",
   "name": "python",
   "nbconvert_exporter": "python",
   "pygments_lexer": "ipython3",
   "version": "3.13.7"
  }
 },
 "nbformat": 4,
 "nbformat_minor": 5
}
