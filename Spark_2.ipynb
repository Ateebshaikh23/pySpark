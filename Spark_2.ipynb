{
 "cells": [
  {
   "cell_type": "markdown",
   "id": "0bed60f0",
   "metadata": {},
   "source": [
    "pyspark handling missing value\n",
    "Dropping columns\n",
    "Dropping Rowa\n",
    "various parameters in droping functionalities\n",
    "handing missing values by mean\n"
   ]
  },
  {
   "cell_type": "code",
   "execution_count": 28,
   "id": "9a2abca0",
   "metadata": {},
   "outputs": [],
   "source": [
    "from pyspark.sql import SparkSession\n",
    "spark = SparkSession.builder.appName('Practics').getOrCreate()"
   ]
  },
  {
   "cell_type": "code",
   "execution_count": 29,
   "id": "e389875a",
   "metadata": {},
   "outputs": [],
   "source": [
    "# to read the datafile\n",
    "df = spark.read.csv(\"test1.csv\", header=True, inferSchema=True)"
   ]
  },
  {
   "cell_type": "code",
   "execution_count": 30,
   "id": "76abc445",
   "metadata": {},
   "outputs": [
    {
     "name": "stdout",
     "output_type": "stream",
     "text": [
      "+-------------+----+---------+------+\n",
      "|         Name| Age|Experince|Salary|\n",
      "+-------------+----+---------+------+\n",
      "| Ateeb Shaikh|  19|        2| 65000|\n",
      "|Firoj Tamboli|  22|        6| 15000|\n",
      "|         umar|  18|        1| 10000|\n",
      "|   adnan khan|  21|        3|450000|\n",
      "|sameer shaikh|  23|        1| 40000|\n",
      "|       shadab|  21|        3| 60000|\n",
      "|faizan shaikh|NULL|     NULL|120000|\n",
      "|         NULL|NULL|       10|  4500|\n",
      "|         NULL|  31|     NULL|  NULL|\n",
      "|         NULL|  12|     NULL|  NULL|\n",
      "+-------------+----+---------+------+\n",
      "\n"
     ]
    }
   ],
   "source": [
    "df.show()"
   ]
  },
  {
   "cell_type": "code",
   "execution_count": 31,
   "metadata": {},
   "outputs": [
    {
     "name": "stdout",
     "output_type": "stream",
     "text": [
      "+----+---------+------+\n",
      "| Age|Experince|Salary|\n",
      "+----+---------+------+\n",
      "|  19|        2| 65000|\n",
      "|  22|        6| 15000|\n",
      "|  18|        1| 10000|\n",
      "|  21|        3|450000|\n",
      "|  23|        1| 40000|\n",
      "|  21|        3| 60000|\n",
      "|NULL|     NULL|120000|\n",
      "|NULL|       10|  4500|\n",
      "|  31|     NULL|  NULL|\n",
      "|  12|     NULL|  NULL|\n",
      "+----+---------+------+\n",
      "\n"
     ]
    }
   ],
   "source": [
    "# Drop the columns\n",
    "df.drop(\"Name\").show()"
   ]
  },
  {
   "cell_type": "code",
   "execution_count": 32,
   "id": "f18ee78b",
   "metadata": {},
   "outputs": [
    {
     "name": "stdout",
     "output_type": "stream",
     "text": [
      "+-------------+----+---------+------+\n",
      "|         Name| Age|Experince|Salary|\n",
      "+-------------+----+---------+------+\n",
      "| Ateeb Shaikh|  19|        2| 65000|\n",
      "|Firoj Tamboli|  22|        6| 15000|\n",
      "|         umar|  18|        1| 10000|\n",
      "|   adnan khan|  21|        3|450000|\n",
      "|sameer shaikh|  23|        1| 40000|\n",
      "|       shadab|  21|        3| 60000|\n",
      "|faizan shaikh|NULL|     NULL|120000|\n",
      "|         NULL|NULL|       10|  4500|\n",
      "|         NULL|  31|     NULL|  NULL|\n",
      "|         NULL|  12|     NULL|  NULL|\n",
      "+-------------+----+---------+------+\n",
      "\n"
     ]
    }
   ],
   "source": [
    "df.show()"
   ]
  },
  {
   "cell_type": "code",
   "execution_count": 33,
   "id": "7bd739f8",
   "metadata": {},
   "outputs": [
    {
     "name": "stdout",
     "output_type": "stream",
     "text": [
      "+-------------+---+---------+------+\n",
      "|         Name|Age|Experince|Salary|\n",
      "+-------------+---+---------+------+\n",
      "| Ateeb Shaikh| 19|        2| 65000|\n",
      "|Firoj Tamboli| 22|        6| 15000|\n",
      "|         umar| 18|        1| 10000|\n",
      "|   adnan khan| 21|        3|450000|\n",
      "|sameer shaikh| 23|        1| 40000|\n",
      "|       shadab| 21|        3| 60000|\n",
      "+-------------+---+---------+------+\n",
      "\n"
     ]
    }
   ],
   "source": [
    "# Dropping the null value\n",
    "df.na.drop().show()"
   ]
  },
  {
   "cell_type": "code",
   "execution_count": 34,
   "id": "6dcc2aaa",
   "metadata": {},
   "outputs": [
    {
     "name": "stdout",
     "output_type": "stream",
     "text": [
      "+-------------+---+---------+------+\n",
      "|         Name|Age|Experince|Salary|\n",
      "+-------------+---+---------+------+\n",
      "| Ateeb Shaikh| 19|        2| 65000|\n",
      "|Firoj Tamboli| 22|        6| 15000|\n",
      "|         umar| 18|        1| 10000|\n",
      "|   adnan khan| 21|        3|450000|\n",
      "|sameer shaikh| 23|        1| 40000|\n",
      "|       shadab| 21|        3| 60000|\n",
      "+-------------+---+---------+------+\n",
      "\n"
     ]
    }
   ],
   "source": [
    "# Any == how\n",
    "df.na.drop(how=\"any\").show()"
   ]
  },
  {
   "cell_type": "code",
   "execution_count": 35,
   "id": "f80e3764",
   "metadata": {},
   "outputs": [
    {
     "name": "stdout",
     "output_type": "stream",
     "text": [
      "+-------------+----+---------+------+\n",
      "|         Name| Age|Experince|Salary|\n",
      "+-------------+----+---------+------+\n",
      "| Ateeb Shaikh|  19|        2| 65000|\n",
      "|Firoj Tamboli|  22|        6| 15000|\n",
      "|         umar|  18|        1| 10000|\n",
      "|   adnan khan|  21|        3|450000|\n",
      "|sameer shaikh|  23|        1| 40000|\n",
      "|       shadab|  21|        3| 60000|\n",
      "|faizan shaikh|NULL|     NULL|120000|\n",
      "|         NULL|NULL|       10|  4500|\n",
      "|         NULL|  31|     NULL|  NULL|\n",
      "|         NULL|  12|     NULL|  NULL|\n",
      "+-------------+----+---------+------+\n",
      "\n"
     ]
    }
   ],
   "source": [
    "# thresh\n",
    "df.na.drop(how=\"any\",thresh=1).show()"
   ]
  },
  {
   "cell_type": "code",
   "execution_count": 36,
   "id": "3723a60e",
   "metadata": {},
   "outputs": [
    {
     "name": "stdout",
     "output_type": "stream",
     "text": [
      "+-------------+---+---------+------+\n",
      "|         Name|Age|Experince|Salary|\n",
      "+-------------+---+---------+------+\n",
      "| Ateeb Shaikh| 19|        2| 65000|\n",
      "|Firoj Tamboli| 22|        6| 15000|\n",
      "|         umar| 18|        1| 10000|\n",
      "|   adnan khan| 21|        3|450000|\n",
      "|sameer shaikh| 23|        1| 40000|\n",
      "|       shadab| 21|        3| 60000|\n",
      "|         NULL| 31|     NULL|  NULL|\n",
      "|         NULL| 12|     NULL|  NULL|\n",
      "+-------------+---+---------+------+\n",
      "\n"
     ]
    }
   ],
   "source": [
    "# Subset\n",
    "df.na.drop(how=\"any\",subset=['Age']).show()"
   ]
  },
  {
   "cell_type": "code",
   "execution_count": 41,
   "id": "fb38daaf",
   "metadata": {},
   "outputs": [
    {
     "name": "stdout",
     "output_type": "stream",
     "text": [
      "+-------------+----+---------+------+\n",
      "|         Name| Age|Experince|Salary|\n",
      "+-------------+----+---------+------+\n",
      "| Ateeb Shaikh|  19|        2| 65000|\n",
      "|Firoj Tamboli|  22|        6| 15000|\n",
      "|         umar|  18|        1| 10000|\n",
      "|   adnan khan|  21|        3|450000|\n",
      "|sameer shaikh|  23|        1| 40000|\n",
      "|       shadab|  21|        3| 60000|\n",
      "|faizan shaikh|NULL|     NULL|120000|\n",
      "|Missing Value|NULL|       10|  4500|\n",
      "|Missing Value|  31|     NULL|  NULL|\n",
      "|Missing Value|  12|     NULL|  NULL|\n",
      "+-------------+----+---------+------+\n",
      "\n"
     ]
    }
   ],
   "source": [
    "# Filling the missing value\n",
    "df.na.fill(\"Missing Value\").show()\n"
   ]
  },
  {
   "cell_type": "code",
   "execution_count": 42,
   "id": "26a1ec56",
   "metadata": {},
   "outputs": [
    {
     "name": "stdout",
     "output_type": "stream",
     "text": [
      "+-------------+----+---------+------+\n",
      "|         Name| Age|Experince|Salary|\n",
      "+-------------+----+---------+------+\n",
      "| Ateeb Shaikh|  19|        2| 65000|\n",
      "|Firoj Tamboli|  22|        6| 15000|\n",
      "|         umar|  18|        1| 10000|\n",
      "|   adnan khan|  21|        3|450000|\n",
      "|sameer shaikh|  23|        1| 40000|\n",
      "|       shadab|  21|        3| 60000|\n",
      "|faizan shaikh|NULL|     NULL|120000|\n",
      "|         NULL|NULL|       10|  4500|\n",
      "|         NULL|  31|     NULL|  NULL|\n",
      "|         NULL|  12|     NULL|  NULL|\n",
      "+-------------+----+---------+------+\n",
      "\n"
     ]
    }
   ],
   "source": [
    "df.show()"
   ]
  },
  {
   "cell_type": "code",
   "execution_count": 43,
   "id": "7af05e28",
   "metadata": {},
   "outputs": [],
   "source": [
    "from pyspark.ml.feature import Imputer\n",
    "\n",
    "Imputer = Imputer(\n",
    "    inputCols=['Age','Experince','Salary'],\n",
    "    outputCols=[\"{}_imputer\".format(c) for c in ['Age','Experince','Salary']]\n",
    ").setStrategy(\"mean\")"
   ]
  },
  {
   "cell_type": "code",
   "execution_count": 44,
   "id": "2d44a40a",
   "metadata": {},
   "outputs": [
    {
     "name": "stdout",
     "output_type": "stream",
     "text": [
      "+-------------+----+---------+------+-----------+-----------------+--------------+\n",
      "|         Name| Age|Experince|Salary|Age_imputer|Experince_imputer|Salary_imputer|\n",
      "+-------------+----+---------+------+-----------+-----------------+--------------+\n",
      "| Ateeb Shaikh|  19|        2| 65000|         19|                2|         65000|\n",
      "|Firoj Tamboli|  22|        6| 15000|         22|                6|         15000|\n",
      "|         umar|  18|        1| 10000|         18|                1|         10000|\n",
      "|   adnan khan|  21|        3|450000|         21|                3|        450000|\n",
      "|sameer shaikh|  23|        1| 40000|         23|                1|         40000|\n",
      "|       shadab|  21|        3| 60000|         21|                3|         60000|\n",
      "|faizan shaikh|NULL|     NULL|120000|         20|                3|        120000|\n",
      "|         NULL|NULL|       10|  4500|         20|               10|          4500|\n",
      "|         NULL|  31|     NULL|  NULL|         31|                3|         95562|\n",
      "|         NULL|  12|     NULL|  NULL|         12|                3|         95562|\n",
      "+-------------+----+---------+------+-----------+-----------------+--------------+\n",
      "\n"
     ]
    }
   ],
   "source": [
    "# write imputer cols to df\n",
    "Imputer.fit(df).transform(df).show()"
   ]
  },
  {
   "cell_type": "code",
   "execution_count": null,
   "id": "5c7ba52c",
   "metadata": {},
   "outputs": [],
   "source": []
  },
  {
   "cell_type": "code",
   "execution_count": null,
   "id": "893bb07c",
   "metadata": {},
   "outputs": [],
   "source": []
  },
  {
   "cell_type": "code",
   "execution_count": null,
   "id": "19e0eed0",
   "metadata": {},
   "outputs": [],
   "source": []
  },
  {
   "cell_type": "code",
   "execution_count": null,
   "id": "370bbd68",
   "metadata": {},
   "outputs": [],
   "source": []
  },
  {
   "cell_type": "code",
   "execution_count": null,
   "id": "f6c3a62a",
   "metadata": {},
   "outputs": [],
   "source": []
  },
  {
   "cell_type": "code",
   "execution_count": null,
   "id": "18fe9ea4",
   "metadata": {},
   "outputs": [],
   "source": []
  },
  {
   "cell_type": "code",
   "execution_count": null,
   "id": "00fb7693",
   "metadata": {},
   "outputs": [],
   "source": []
  },
  {
   "cell_type": "code",
   "execution_count": null,
   "id": "5fedf994",
   "metadata": {},
   "outputs": [],
   "source": []
  },
  {
   "cell_type": "code",
   "execution_count": null,
   "id": "388c748f",
   "metadata": {},
   "outputs": [],
   "source": []
  },
  {
   "cell_type": "code",
   "execution_count": null,
   "id": "02dd7018",
   "metadata": {},
   "outputs": [],
   "source": []
  },
  {
   "cell_type": "code",
   "execution_count": null,
   "id": "114eb3b0",
   "metadata": {},
   "outputs": [],
   "source": []
  }
 ],
 "metadata": {
  "kernelspec": {
   "display_name": "Python 3",
   "language": "python",
   "name": "python3"
  },
  "language_info": {
   "codemirror_mode": {
    "name": "ipython",
    "version": 3
   },
   "file_extension": ".py",
   "mimetype": "text/x-python",
   "name": "python",
   "nbconvert_exporter": "python",
   "pygments_lexer": "ipython3",
   "version": "3.13.7"
  }
 },
 "nbformat": 4,
 "nbformat_minor": 5
}
